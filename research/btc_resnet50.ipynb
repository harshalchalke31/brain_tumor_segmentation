{
 "cells": [
  {
   "cell_type": "markdown",
   "metadata": {},
   "source": [
    "## Dependencies\n"
   ]
  },
  {
   "cell_type": "code",
   "execution_count": 1,
   "metadata": {},
   "outputs": [],
   "source": [
    "import torch\n",
    "import os\n",
    "from PIL import Image\n",
    "from pathlib import Path\n",
    "import pandas as pd\n",
    "from torch.utils.data import DataLoader, random_split\n",
    "from torchvision.datasets import ImageFolder\n",
    "from torchvision import transforms\n",
    "os.chdir('../')\n",
    "from sklearn.model_selection import train_test_split \n",
    "import matplotlib.pyplot as plt\n",
    "from src.classifier1 import ResNet50Classifier\n",
    "from src.train import train_classifier"
   ]
  },
  {
   "cell_type": "code",
   "execution_count": 2,
   "metadata": {},
   "outputs": [
    {
     "data": {
      "text/plain": [
       "'c:\\\\Projects\\\\python\\\\brain_tumor_segmentation'"
      ]
     },
     "execution_count": 2,
     "metadata": {},
     "output_type": "execute_result"
    }
   ],
   "source": [
    "%pwd"
   ]
  },
  {
   "cell_type": "code",
   "execution_count": 3,
   "metadata": {},
   "outputs": [],
   "source": [
    "train_path = Path('.\\data\\\\brain-tumor-mri-dataset\\Training')\n",
    "test_path = Path('.\\data\\\\brain-tumor-mri-dataset\\Testing')\n",
    "H,W = 256,256\n",
    "torch.manual_seed(42)\n",
    "batch_size = 16\n",
    "lr = 1e-3\n",
    "num_epochs = 50\n",
    "model_dir = Path('./models/classifier1/')\n",
    "log_path = Path('./logs/train_log_resnet50_1.csv')\n",
    "os.makedirs(model_dir,exist_ok=True)\n",
    "model_path = os.path.join(model_dir, 'best_model.pt')\n",
    "device='cuda'"
   ]
  },
  {
   "cell_type": "markdown",
   "metadata": {},
   "source": [
    "## Data loader"
   ]
  },
  {
   "cell_type": "code",
   "execution_count": 4,
   "metadata": {},
   "outputs": [],
   "source": [
    "transform = transforms.Compose([\n",
    "    transforms.Resize((256,256)),\n",
    "    transforms.ToTensor()\n",
    "])\n",
    "\n",
    "train_dataset = ImageFolder(root=train_path,transform=transform)\n",
    "valid_size = int(len(train_dataset)*0.15)\n",
    "train_size = len(train_dataset)-valid_size\n",
    "test_data = ImageFolder(root=test_path,transform=transform)\n",
    "train_data,valid_data = random_split(train_dataset,[train_size,valid_size])\n",
    "\n",
    "train_loader = DataLoader(dataset=train_data,batch_size=32,shuffle=True)\n",
    "valid_loader = DataLoader(dataset=valid_data,batch_size=32,shuffle=True)\n",
    "test_loader = DataLoader(dataset=test_data,batch_size=32,shuffle=True)"
   ]
  },
  {
   "cell_type": "markdown",
   "metadata": {},
   "source": [
    "## Train"
   ]
  },
  {
   "cell_type": "code",
   "execution_count": 5,
   "metadata": {},
   "outputs": [
    {
     "name": "stderr",
     "output_type": "stream",
     "text": [
      "c:\\Projects\\python\\mainenv\\Lib\\site-packages\\torchvision\\models\\_utils.py:208: UserWarning: The parameter 'pretrained' is deprecated since 0.13 and may be removed in the future, please use 'weights' instead.\n",
      "  warnings.warn(\n",
      "c:\\Projects\\python\\mainenv\\Lib\\site-packages\\torchvision\\models\\_utils.py:223: UserWarning: Arguments other than a weight enum or `None` for 'weights' are deprecated since 0.13 and may be removed in the future. The current behavior is equivalent to passing `weights=ResNet50_Weights.IMAGENET1K_V1`. You can also use `weights=ResNet50_Weights.DEFAULT` to get the most up-to-date weights.\n",
      "  warnings.warn(msg)\n"
     ]
    },
    {
     "name": "stdout",
     "output_type": "stream",
     "text": [
      "Epoch 1/50, Train Loss: 0.4265, Train Acc: 0.8478, Valid Loss: 0.5495, Valid Acc: 0.8236, Patience: 0\n",
      "Epoch 2/50, Train Loss: 0.2575, Train Acc: 0.9117, Valid Loss: 0.3365, Valid Acc: 0.8773, Patience: 0\n",
      "Epoch 3/50, Train Loss: 0.2240, Train Acc: 0.9195, Valid Loss: 0.2816, Valid Acc: 0.9089, Patience: 0\n",
      "Epoch 4/50, Train Loss: 0.1506, Train Acc: 0.9514, Valid Loss: 0.2687, Valid Acc: 0.9194, Patience: 0\n",
      "Epoch 5/50, Train Loss: 0.1515, Train Acc: 0.9463, Valid Loss: 1.2879, Valid Acc: 0.7220, Patience: 0\n",
      "Epoch 6/50, Train Loss: 0.1301, Train Acc: 0.9578, Valid Loss: 0.2807, Valid Acc: 0.8843, Patience: 1\n",
      "Epoch 7/50, Train Loss: 0.1108, Train Acc: 0.9646, Valid Loss: 0.2821, Valid Acc: 0.9112, Patience: 2\n",
      "Epoch 8/50, Train Loss: 0.0704, Train Acc: 0.9745, Valid Loss: 0.1365, Valid Acc: 0.9568, Patience: 3\n",
      "Epoch 9/50, Train Loss: 0.0719, Train Acc: 0.9751, Valid Loss: 0.2417, Valid Acc: 0.9112, Patience: 0\n",
      "Epoch 10/50, Train Loss: 0.0768, Train Acc: 0.9722, Valid Loss: 0.3689, Valid Acc: 0.9019, Patience: 1\n",
      "Epoch 11/50, Train Loss: 0.0838, Train Acc: 0.9716, Valid Loss: 0.1069, Valid Acc: 0.9685, Patience: 2\n",
      "Epoch 12/50, Train Loss: 0.0477, Train Acc: 0.9854, Valid Loss: 0.1022, Valid Acc: 0.9591, Patience: 0\n",
      "Epoch 13/50, Train Loss: 0.0394, Train Acc: 0.9866, Valid Loss: 0.0850, Valid Acc: 0.9731, Patience: 0\n",
      "Epoch 14/50, Train Loss: 0.0339, Train Acc: 0.9897, Valid Loss: 0.1340, Valid Acc: 0.9650, Patience: 0\n",
      "Epoch 15/50, Train Loss: 0.0515, Train Acc: 0.9825, Valid Loss: 0.1473, Valid Acc: 0.9544, Patience: 1\n",
      "Epoch 16/50, Train Loss: 0.0315, Train Acc: 0.9905, Valid Loss: 0.2064, Valid Acc: 0.9299, Patience: 2\n",
      "Epoch 17/50, Train Loss: 0.0301, Train Acc: 0.9883, Valid Loss: 0.3902, Valid Acc: 0.8797, Patience: 3\n",
      "Epoch 18/50, Train Loss: 0.0507, Train Acc: 0.9806, Valid Loss: 0.1463, Valid Acc: 0.9591, Patience: 4\n",
      "Early Stopping Triggered!\n"
     ]
    }
   ],
   "source": [
    "model = ResNet50Classifier(num_classes=4)  #changed\n",
    "\n",
    "train_classifier(model=model, train_loader=train_loader, valid_loader=valid_loader, device=device, num_epochs=num_epochs, lr=lr,\n",
    "                 log_path=log_path, model_path=model_path, patience=5)  #changed\n"
   ]
  },
  {
   "cell_type": "markdown",
   "metadata": {},
   "source": [
    "## Test"
   ]
  },
  {
   "cell_type": "code",
   "execution_count": 6,
   "metadata": {},
   "outputs": [
    {
     "name": "stdout",
     "output_type": "stream",
     "text": [
      "Test Accuracy: 0.9672\n"
     ]
    }
   ],
   "source": [
    "# Load the best saved model weights\n",
    "model.load_state_dict(torch.load(model_path))  #changed\n",
    "model.eval()\n",
    "\n",
    "correct_test = 0\n",
    "total_test = 0\n",
    "\n",
    "with torch.no_grad():\n",
    "    for images, labels in test_loader:\n",
    "        images, labels = images.to(device), labels.to(device)  #changed\n",
    "        outputs = model(images)  #changed\n",
    "        _, predicted = torch.max(outputs, 1)  #changed\n",
    "        correct_test += (predicted == labels).sum().item()  #changed\n",
    "        total_test += labels.size(0)  #changed\n",
    "\n",
    "print(\"Test Accuracy: {:.4f}\".format(correct_test / total_test))"
   ]
  }
 ],
 "metadata": {
  "kernelspec": {
   "display_name": "mainenv",
   "language": "python",
   "name": "python3"
  },
  "language_info": {
   "codemirror_mode": {
    "name": "ipython",
    "version": 3
   },
   "file_extension": ".py",
   "mimetype": "text/x-python",
   "name": "python",
   "nbconvert_exporter": "python",
   "pygments_lexer": "ipython3",
   "version": "3.11.0"
  }
 },
 "nbformat": 4,
 "nbformat_minor": 2
}
