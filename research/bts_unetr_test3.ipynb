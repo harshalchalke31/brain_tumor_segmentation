{
 "cells": [
  {
   "cell_type": "markdown",
   "metadata": {},
   "source": [
    "## Dependencies"
   ]
  },
  {
   "cell_type": "code",
   "execution_count": 1,
   "metadata": {},
   "outputs": [],
   "source": [
    "import os\n",
    "os.chdir('../')"
   ]
  },
  {
   "cell_type": "code",
   "execution_count": 2,
   "metadata": {},
   "outputs": [
    {
     "data": {
      "text/plain": [
       "'c:\\\\Projects\\\\python\\\\brain_tumor_segmentation'"
      ]
     },
     "execution_count": 2,
     "metadata": {},
     "output_type": "execute_result"
    }
   ],
   "source": [
    "%pwd"
   ]
  },
  {
   "cell_type": "code",
   "execution_count": null,
   "metadata": {},
   "outputs": [
    {
     "name": "stdout",
     "output_type": "stream",
     "text": [
      "cuda\n"
     ]
    }
   ],
   "source": [
    "from src.config.configuration import ConfigurationManager  # adjust import as needed\n",
    "from src.model2 import UNetR2D\n",
    "import torch\n",
    "from torchvision.transforms import transforms\n",
    "from src.utils import BrainTumorSegmentationDataset, CustomDataLoader\n",
    "from torch.utils.data import random_split\n",
    "import csv\n",
    "from src.utils import BCEDiceLoss, dice_coefficient\n",
    "\n",
    "# For testing, assume ConfigurationManager returns an instance of UNetRTrainerConfig.\n",
    "config_manager = ConfigurationManager()\n",
    "training_arguments = config_manager.get_UNetR_params()\n",
    "device = 'cuda' if torch.cuda.is_available() else 'cpu'\n",
    "## Global parameters\n",
    "H,W = 256,256\n",
    "torch.manual_seed(42)\n",
    "batch_size = 8\n",
    "lr = 1e-3\n",
    "num_epochs = 500\n",
    "dataset_path = \"./data/archive/\"\n",
    "model_dir = './models/model2/'\n",
    "log_path = './logs/train_log_unetr_1.csv'\n",
    "os.makedirs(model_dir,exist_ok=True)\n",
    "model_path = os.path.join(model_dir, 'best_model2.pt')\n",
    "print(device)"
   ]
  },
  {
   "cell_type": "markdown",
   "metadata": {},
   "source": [
    "## Load Dataset"
   ]
  },
  {
   "cell_type": "code",
   "execution_count": 4,
   "metadata": {},
   "outputs": [],
   "source": [
    "# Define transforms\n",
    "transform = transforms.Compose([\n",
    "    transforms.Resize((H, W)),\n",
    "    transforms.ToTensor()\n",
    "])\n",
    "\n",
    "full_dataset = BrainTumorSegmentationDataset(\n",
    "    image_dir=os.path.join(dataset_path, \"images\"), \n",
    "    mask_dir=os.path.join(dataset_path, \"masks\"),\n",
    "    transform=transform\n",
    ")\n",
    "\n",
    "# Split dataset\n",
    "train_size = int(0.95 * len(full_dataset))\n",
    "valid_size = len(full_dataset) - train_size\n",
    "\n",
    "train_dataset, valid_dataset = random_split(full_dataset, [train_size, valid_size])\n",
    "\n",
    "train_loader = CustomDataLoader(train_dataset,batch_size=batch_size,shuffle=True)\n",
    "valid_loader = CustomDataLoader(valid_dataset,batch_size=batch_size,shuffle=True)"
   ]
  },
  {
   "cell_type": "markdown",
   "metadata": {},
   "source": [
    "## Train"
   ]
  },
  {
   "cell_type": "code",
   "execution_count": null,
   "metadata": {},
   "outputs": [
    {
     "name": "stdout",
     "output_type": "stream",
     "text": [
      "torch.Size([8, 3, 256, 256]) torch.Size([8, 1, 256, 256])\n"
     ]
    }
   ],
   "source": [
    "def train_UNet(model, train_loader, valid_loader, device, num_epochs=500, lr=1e-3,\n",
    "               log_path='./logs/train_log2.csv', model_path='./models/model1/best_model2.pth',patience=50):\n",
    "    # Use the combined BCE + Dice loss (ensure that BCEDiceLoss is defined/imported)\n",
    "    criterion = BCEDiceLoss()\n",
    "    \n",
    "    # Adam with weight decay for regularization\n",
    "    optimizer = optim.Adam(model.parameters(), lr=lr, weight_decay=1e-5)\n",
    "    \n",
    "    # Cosine annealing scheduler\n",
    "    scheduler = optim.lr_scheduler.CosineAnnealingLR(optimizer, T_max=num_epochs, eta_min=1e-7)\n",
    "    \n",
    "    best_loss = float('inf')\n",
    "    patience_counter = 0\n",
    "    model.to(device)\n",
    "\n",
    "    # Open log file and write header (including Valid Dice)\n",
    "    with open(log_path, mode='w', newline='') as f:\n",
    "        writer = csv.writer(f)\n",
    "        writer.writerow([\"Epoch\", \"Train Loss\", \"Valid Loss\", \"Valid Dice\"])\n",
    "\n",
    "    for epoch in range(num_epochs):\n",
    "        model.train()\n",
    "        train_loss = 0.0\n",
    "        total_train_samples = 0\n",
    "\n",
    "        for images, masks in train_loader:\n",
    "            images, masks = images.to(device), masks.to(device)\n",
    "            optimizer.zero_grad()\n",
    "            outputs = model(images)\n",
    "            loss = criterion(outputs, masks)\n",
    "            loss.backward()\n",
    "            optimizer.step()\n",
    "            \n",
    "            batch_size_curr = images.size(0)\n",
    "            train_loss += loss.item() * batch_size_curr\n",
    "            total_train_samples += batch_size_curr\n",
    "        \n",
    "        train_loss = train_loss / total_train_samples\n",
    "\n",
    "        model.eval()\n",
    "        valid_loss = 0.0\n",
    "        total_valid_samples = 0\n",
    "        valid_dice = 0.0\n",
    "\n",
    "        with torch.no_grad():\n",
    "            for images, masks in valid_loader:\n",
    "                images, masks = images.to(device), masks.to(device)\n",
    "                outputs = model(images)\n",
    "                loss = criterion(outputs, masks)\n",
    "                \n",
    "                batch_size_curr = images.size(0)\n",
    "                valid_loss += loss.item() * batch_size_curr\n",
    "                total_valid_samples += batch_size_curr\n",
    "\n",
    "                # Compute dice coefficient for the batch and accumulate\n",
    "                batch_dice = dice_coefficient(outputs, masks)\n",
    "                valid_dice += batch_dice * batch_size_curr\n",
    "\n",
    "        valid_loss = valid_loss / total_valid_samples\n",
    "        valid_dice = valid_dice / total_valid_samples\n",
    "        \n",
    "        # Step the cosine annealing scheduler\n",
    "        scheduler.step()\n",
    "\n",
    "        print(f\"Epoch {epoch+1}/{num_epochs}, Train Loss: {train_loss:.4f}, \"\n",
    "              f\"Valid Loss: {valid_loss:.4f}, Valid Dice: {valid_dice:.4f}\")\n",
    "\n",
    "        with open(log_path, mode='a', newline='') as f:\n",
    "            writer = csv.writer(f)\n",
    "            writer.writerow([epoch + 1, train_loss, valid_loss, valid_dice])\n",
    "\n",
    "        if valid_loss < best_loss:\n",
    "            best_loss = valid_loss\n",
    "            torch.save(model.state_dict(), model_path)\n",
    "            patience_counter=0\n",
    "        else:\n",
    "            patience_counter+=1\n",
    "\n",
    "        if patience_counter>=patience:\n",
    "            print('Early Stopping Triggered!')\n",
    "            break\n"
   ]
  }
 ],
 "metadata": {
  "kernelspec": {
   "display_name": "mainenv",
   "language": "python",
   "name": "python3"
  },
  "language_info": {
   "codemirror_mode": {
    "name": "ipython",
    "version": 3
   },
   "file_extension": ".py",
   "mimetype": "text/x-python",
   "name": "python",
   "nbconvert_exporter": "python",
   "pygments_lexer": "ipython3",
   "version": "3.11.0"
  }
 },
 "nbformat": 4,
 "nbformat_minor": 2
}
