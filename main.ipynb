{
 "cells": [
  {
   "cell_type": "markdown",
   "metadata": {},
   "source": [
    "## Dependencies"
   ]
  },
  {
   "cell_type": "code",
   "execution_count": 1,
   "metadata": {},
   "outputs": [],
   "source": [
    "import os\n",
    "import glob\n",
    "import torch\n",
    "from torch.utils.data import ConcatDataset, DataLoader, random_split\n",
    "from torchvision import transforms\n",
    "from PIL import Image\n",
    "from src.utils import BrainTumorSegmentationDataset, BrainTumorSegmentationDataset2, plot_loss_curves\n",
    "from pathlib import Path\n",
    "from src.model1 import UNet\n",
    "from src.model2 import UNetR2D\n",
    "from src.model3 import MobileNetV3UNet\n",
    "from src.train import train_UNet\n",
    "from src.config.configuration import ConfigurationManager\n",
    "import gc\n",
    "\n",
    "## Global parameters\n",
    "device = 'cuda' if torch.cuda.is_available() else 'cpu'\n",
    "H,W = 256,256\n",
    "torch.manual_seed(42)\n",
    "batch_size = 16\n",
    "lr = 1e-3\n",
    "num_epochs = 500\n",
    "\n",
    "\n",
    "dataset_path_1 = Path(\"./data/archive/\")\n",
    "dataset_path_2 = Path('./data/brain_mri/kaggle_3m/')\n",
    "model_path_1 = Path('./models/model1/best_model2.pt')\n",
    "model_path_2 = Path('./models/model2/best_model3.pt')\n",
    "model_path_3 = Path('./models/model3/best_model3.pt')\n",
    "log_path_1 = Path('./logs/train_log_unet_2.csv')\n",
    "log_path_2 = Path('./logs/train_log_transunet_3.csv')\n",
    "log_path_3 = Path('./logs/train_log_mobilenetv3_3.csv')"
   ]
  },
  {
   "cell_type": "markdown",
   "metadata": {},
   "source": [
    "## Data loading"
   ]
  },
  {
   "cell_type": "code",
   "execution_count": 2,
   "metadata": {},
   "outputs": [],
   "source": [
    "# Define transforms\n",
    "transform = transforms.Compose([\n",
    "    transforms.Resize((H, W)),\n",
    "    transforms.ToTensor()\n",
    "])\n",
    "\n",
    "dataset_1 = BrainTumorSegmentationDataset(\n",
    "    image_dir=os.path.join(dataset_path_1, \"images\"), \n",
    "    mask_dir=os.path.join(dataset_path_1, \"masks\"),\n",
    "    transform=transform\n",
    ")\n",
    "dataset_2 = BrainTumorSegmentationDataset2(root_dir=dataset_path_2, transform=transform)\n",
    "\n",
    "full_dataset = ConcatDataset(datasets=[dataset_1,dataset_2])\n",
    "\n",
    "# Split dataset\n",
    "train_size_1 = int(0.90 * len(full_dataset))\n",
    "valid_size_1 = len(full_dataset) - train_size_1\n",
    "\n",
    "train_dataset_1, valid_dataset_1 = random_split(full_dataset, [train_size_1, valid_size_1])\n",
    "\n",
    "train_loader_1 = DataLoader(train_dataset_1,batch_size=batch_size,shuffle=True)\n",
    "valid_loader_1 = DataLoader(valid_dataset_1,batch_size=batch_size,shuffle=True)\n",
    "\n",
    "test_dataset = BrainTumorSegmentationDataset(\n",
    "    image_dir= os.path.join(dataset_path_1,'test','images'),\n",
    "    mask_dir=os.path.join(dataset_path_1,'test','masks'),\n",
    "    transform=transform\n",
    ")\n",
    "\n",
    "test_loader_1 = DataLoader(test_dataset,batch_size=batch_size,shuffle=True)"
   ]
  },
  {
   "cell_type": "markdown",
   "metadata": {},
   "source": [
    "## Training"
   ]
  },
  {
   "cell_type": "markdown",
   "metadata": {},
   "source": [
    "### Model 1"
   ]
  },
  {
   "cell_type": "code",
   "execution_count": null,
   "metadata": {},
   "outputs": [],
   "source": [
    "model_1 = UNet()\n",
    "train_UNet(model=model_1,\n",
    "           train_loader=train_loader_1,\n",
    "           valid_loader=valid_loader_1,\n",
    "           device=device,\n",
    "           num_epochs=num_epochs,\n",
    "           lr=lr,\n",
    "           log_path=log_path_1,\n",
    "           model_path=model_path_1)\n",
    "\n",
    "del model_1\n",
    "torch.cuda.empty_cache()\n",
    "gc.collect()\n",
    "\n",
    "plot_loss_curves(log_path=log_path_1)"
   ]
  },
  {
   "cell_type": "markdown",
   "metadata": {},
   "source": [
    "## Model 3"
   ]
  },
  {
   "cell_type": "code",
   "execution_count": null,
   "metadata": {},
   "outputs": [],
   "source": [
    "model_3 = MobileNetV3UNet()\n",
    "train_UNet(model=model_3,\n",
    "           train_loader=train_loader_1,\n",
    "           valid_loader=valid_loader_1,\n",
    "           device=device,\n",
    "           num_epochs=num_epochs,\n",
    "           lr=lr,\n",
    "           log_path=log_path_3,\n",
    "           model_path=model_path_3)\n",
    "del model_3\n",
    "torch.cuda.empty_cache()\n",
    "gc.collect()\n",
    "\n",
    "plot_loss_curves(log_path=log_path_3)"
   ]
  },
  {
   "cell_type": "markdown",
   "metadata": {},
   "source": [
    "### Model 2"
   ]
  },
  {
   "cell_type": "code",
   "execution_count": null,
   "metadata": {},
   "outputs": [],
   "source": [
    "config_manager = ConfigurationManager()\n",
    "model_params = config_manager.get_UNetR_params()\n",
    "model_2 = UNetR2D(config=model_params)\n",
    "train_UNet(model=model_2,\n",
    "           train_loader=train_loader_1,\n",
    "           valid_loader=valid_loader_1,\n",
    "           device=device,\n",
    "           num_epochs=num_epochs,\n",
    "           lr=lr,\n",
    "           log_path=log_path_2,\n",
    "           model_path=model_path_2)\n",
    "del model_2\n",
    "torch.cuda.empty_cache()\n",
    "gc.collect()\n",
    "\n",
    "plot_loss_curves(log_path=log_path_2)"
   ]
  }
 ],
 "metadata": {
  "kernelspec": {
   "display_name": "mainenv",
   "language": "python",
   "name": "python3"
  },
  "language_info": {
   "codemirror_mode": {
    "name": "ipython",
    "version": 3
   },
   "file_extension": ".py",
   "mimetype": "text/x-python",
   "name": "python",
   "nbconvert_exporter": "python",
   "pygments_lexer": "ipython3",
   "version": "3.11.0"
  }
 },
 "nbformat": 4,
 "nbformat_minor": 2
}
